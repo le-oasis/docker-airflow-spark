{
 "cells": [
  {
   "cell_type": "markdown",
   "id": "1cffeaaf-4701-4114-94ee-fd9e6b61f555",
   "metadata": {
    "tags": []
   },
   "source": [
    "# Spark Session\n",
    "\n",
    "* This is the entry point to Spark SQL. It is one of the very first objects you create while developing a Spark SQL application.\n",
    "* As a Spark developer, you create a SparkSession using the SparkSession.builder method (that gives you access to Builder API that you use to configure the session)."
   ]
  },
  {
   "cell_type": "code",
   "execution_count": 1,
   "id": "38bd27e5-2c1b-48b3-a7e4-5d69da267aa1",
   "metadata": {},
   "outputs": [],
   "source": [
    "# pip install delta"
   ]
  },
  {
   "cell_type": "code",
   "execution_count": 2,
   "id": "c173f02b-719b-45bc-b567-ce55f2d55bff",
   "metadata": {},
   "outputs": [],
   "source": [
    "# pip install delta-spark"
   ]
  },
  {
   "cell_type": "code",
   "execution_count": 3,
   "id": "b08107e4-ca56-4f5f-869d-bbe29a58c1ad",
   "metadata": {},
   "outputs": [],
   "source": [
    "# Import Necessary Libraries\n",
    "import os\n",
    "from delta.tables import *\n",
    "from delta.tables import DeltaTable\n",
    "from pyspark.sql.functions import *\n",
    "from pyspark.sql import *\n",
    "from pyspark.sql.types import *\n",
    "from pyspark.sql.types import StructType, StructField, IntegerType, StringType,array,ArrayType,DateType,TimestampType, FloatType\n",
    "from pyspark.sql import functions as f\n",
    "from pyspark.sql.functions import udf\n",
    "import hashlib\n",
    "import datetime\n",
    "import urllib.request\n",
    "import json\n",
    "from datetime import timedelta, date\n",
    "from pyspark import SparkContext\n",
    "from pyspark.sql import SparkSession\n",
    "from pyspark import SQLContext\n",
    "from itertools import islice\n",
    "from pyspark.sql.functions import col\n",
    "import sys"
   ]
  },
  {
   "cell_type": "code",
   "execution_count": 4,
   "id": "ee3b4f70-be0b-48c9-bb00-9c61f859f9e3",
   "metadata": {},
   "outputs": [],
   "source": [
    "# Builder API\n",
    "# Spark session & context\n",
    "spark=SparkSession.builder.master(\"local\").appName(\"Hive-Test\").enableHiveSupport().getOrCreate()\n",
    "\n",
    "\n",
    "# Get configurations\n",
    "# configurations = spark.sparkContext.getConf().getAll()\n",
    "# for item in configurations: print(item)"
   ]
  },
  {
   "cell_type": "code",
   "execution_count": null,
   "id": "c595e45f-c31b-4280-9a74-61e9a8a2a899",
   "metadata": {},
   "outputs": [],
   "source": []
  },
  {
   "cell_type": "code",
   "execution_count": 5,
   "id": "4a844d50-ac15-4378-8282-8b24ee9f89bc",
   "metadata": {},
   "outputs": [
    {
     "name": "stdout",
     "output_type": "stream",
     "text": [
      "+-----------+--------------+--------------------+-----------+----------+--------------+----------------+--------------------+----------------+--------------------+\n",
      "|customer_id| customer_name|             address|       city|postalcode|       country|           phone|               email|     credit_card|          updated_at|\n",
      "+-----------+--------------+--------------------+-----------+----------+--------------+----------------+--------------------+----------------+--------------------+\n",
      "|          1|    Ariel Hale|Ap #660-3260 Pell...|    College|     98362| United States|  1-973-833-9836|amet.metus@Nullat...|5124442517412973|2022-07-21 09:14:...|\n",
      "|          2| Aubrey Norris|Ap #943-1347 Impe...| Coldstream|   D10 5JV|United Kingdom|    07672 321093|sollicitudin@enim...|5103696625359419|2022-07-21 09:14:...|\n",
      "|          3|  Bruno Hebert|    8566 Nisi Avenue| Llangollen|   CE2 4WW|United Kingdom|    02794 010514|Donec.non@dapibus...|5132188470727440|2022-07-21 09:14:...|\n",
      "|          4|     Ira Lucas|936-3011 Convalli...| Shreveport|     67365| United States|  1-117-676-2784|      nec@lectus.net|5164946381862809|2022-07-21 09:14:...|\n",
      "|          5|Hannah Ferrell|P.O. Box 755, 794...|Watson Lake|   C6Y 7M3|        Canada|1 (867) 533-2852|nec@orciluctuset....|5256394502723692|2022-07-21 09:14:...|\n",
      "+-----------+--------------+--------------------+-----------+----------+--------------+----------------+--------------------+----------------+--------------------+\n",
      "only showing top 5 rows\n",
      "\n"
     ]
    }
   ],
   "source": [
    "# Read CustomersData From Minio\n",
    "customers = spark.read.option(\"header\",True).csv(\"s3a://bronze/sales/customers/2022/07/02/09/customers.csv\")\n",
    "\n",
    "# Show Top 5 \n",
    "customers.show(5)"
   ]
  },
  {
   "cell_type": "code",
   "execution_count": 6,
   "id": "7aad890b-76e7-4886-865e-5b0306919a00",
   "metadata": {},
   "outputs": [
    {
     "name": "stdout",
     "output_type": "stream",
     "text": [
      "+---------+\n",
      "|namespace|\n",
      "+---------+\n",
      "|  default|\n",
      "+---------+\n",
      "\n"
     ]
    }
   ],
   "source": [
    "spark.sql(\"show databases;\").show()"
   ]
  },
  {
   "cell_type": "code",
   "execution_count": null,
   "id": "80188f5b-af4e-4c64-92e9-72c0d42ee045",
   "metadata": {},
   "outputs": [],
   "source": []
  },
  {
   "cell_type": "code",
   "execution_count": 10,
   "id": "d2563c9c-0de3-4659-b637-ac9ca13e41ca",
   "metadata": {},
   "outputs": [],
   "source": [
    "# Read SQL\n",
    "customers.createOrReplaceTempView(\"customers\")\n",
    "\n",
    "## Performing Transformations \n",
    "uk_customers = spark.sql(\"\"\"\n",
    "    SELECT *\n",
    "    FROM customers\n",
    "    WHERE country = 'United Kingdom'\n",
    "    ORDER BY customer_id ASC\n",
    "    LIMIT 100\n",
    "\"\"\")\n",
    "\n",
    "\n",
    "# Writing Results to S3\n",
    "# uk_customers.write.option(\"header\",\"true\").csv(\"s3a://silver/customers/UKSecret\")"
   ]
  },
  {
   "cell_type": "code",
   "execution_count": 11,
   "id": "be93d504-0787-44be-b1b2-19d02db15981",
   "metadata": {},
   "outputs": [],
   "source": [
    "# Write Results to Minio in DeltaFormat\n",
    "uk_customers.write.format(\"delta\").mode(\"overwrite\").option('overwriteSchema','true').save(\"s3a://silver/delta/customers\") "
   ]
  },
  {
   "cell_type": "code",
   "execution_count": null,
   "id": "4d09241c-b9cd-443b-bbfd-0e9b143afd09",
   "metadata": {},
   "outputs": [],
   "source": []
  }
 ],
 "metadata": {
  "kernelspec": {
   "display_name": "Python 3.10.2 64-bit",
   "language": "python",
   "name": "python3"
  },
  "language_info": {
   "codemirror_mode": {
    "name": "ipython",
    "version": 3
   },
   "file_extension": ".py",
   "mimetype": "text/x-python",
   "name": "python",
   "nbconvert_exporter": "python",
   "pygments_lexer": "ipython3",
   "version": "3.10.8"
  },
  "vscode": {
   "interpreter": {
    "hash": "949777d72b0d2535278d3dc13498b2535136f6dfe0678499012e853ee9abcab1"
   }
  }
 },
 "nbformat": 4,
 "nbformat_minor": 5
}

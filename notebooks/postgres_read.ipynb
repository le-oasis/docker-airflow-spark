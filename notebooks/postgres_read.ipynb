{
 "cells": [
  {
   "cell_type": "markdown",
   "id": "4d6ae7b2-2d8d-40e2-989f-06134ff8534e",
   "metadata": {},
   "source": [
    "# Starting Spark Session"
   ]
  },
  {
   "cell_type": "code",
   "execution_count": 1,
   "id": "0ae43ef8-444d-4470-898d-a53a7c65c09e",
   "metadata": {},
   "outputs": [],
   "source": [
    "from pyspark.sql import SparkSession\n",
    "\n",
    "# Spark session & context\n",
    "spark = (SparkSession\n",
    "         .builder\n",
    "         .master(\"local\")\n",
    "         .appName(\"read-postgres\")\n",
    "         # Add postgres jar\n",
    "         .config(\"spark.driver.extraClassPath\", \"/home/jovyan/work/jars/postgresql-42.4.0.jar\")\n",
    "         .getOrCreate())\n",
    "sc = spark.sparkContext"
   ]
  },
  {
   "cell_type": "code",
   "execution_count": null,
   "id": "d4b7262b-2634-4aea-9e4d-27bc2ee2b7b9",
   "metadata": {},
   "outputs": [],
   "source": []
  },
  {
   "cell_type": "markdown",
   "id": "9004e069-5faa-449e-91c7-345be0e7ccf1",
   "metadata": {},
   "source": [
    "## Read Postgres"
   ]
  },
  {
   "cell_type": "code",
   "execution_count": 2,
   "id": "cf95c0a8-4466-45dc-98cc-ac2b7a41e835",
   "metadata": {},
   "outputs": [],
   "source": [
    "df_movies = (\n",
    "    spark.read\n",
    "    .format(\"jdbc\")\n",
    "    .option(\"url\", \"jdbc:postgresql://mypostgres:5432/test\")\n",
    "    .option(\"dbtable\", \"public.movies\")\n",
    "    .option(\"user\", \"airflow\")\n",
    "    .option(\"password\", \"airflow\")\n",
    "    .load()\n",
    ")"
   ]
  },
  {
   "cell_type": "code",
   "execution_count": 3,
   "id": "0261e4f1-e562-4d88-9e65-c58b4658ac8a",
   "metadata": {},
   "outputs": [],
   "source": [
    "df_ratings = (\n",
    "    spark.read\n",
    "    .format(\"jdbc\")\n",
    "    .option(\"url\", \"jdbc:postgresql://mypostgres:5432/test\")\n",
    "    .option(\"dbtable\", \"public.ratings\")\n",
    "    .option(\"user\", \"airflow\")\n",
    "    .option(\"password\", \"airflow\")\n",
    "    .load()\n",
    ")"
   ]
  },
  {
   "cell_type": "code",
   "execution_count": null,
   "id": "bd1ef2e1-aafb-42a5-a053-f6917c76b084",
   "metadata": {},
   "outputs": [],
   "source": []
  },
  {
   "cell_type": "markdown",
   "id": "0225d912-52be-463a-95a6-65692d5b1817",
   "metadata": {},
   "source": [
    "# Top 10 movies with more ratings"
   ]
  },
  {
   "cell_type": "code",
   "execution_count": 4,
   "id": "5fd46db0-3d3d-46e7-aff4-d53aa5f491e1",
   "metadata": {},
   "outputs": [],
   "source": [
    "df_movies = df_movies.alias(\"m\")\n",
    "df_ratings = df_ratings.alias(\"r\")\n",
    "\n",
    "df_join = df_ratings.join(df_movies, df_ratings.movieId == df_movies.movieId).select(\"r.*\",\"m.title\")"
   ]
  },
  {
   "cell_type": "code",
   "execution_count": 5,
   "id": "88e027a8-06c4-427c-9d2d-b3f4d3452b3d",
   "metadata": {},
   "outputs": [],
   "source": [
    "from pyspark.sql import functions as F\n",
    "\n",
    "df_result = (\n",
    "    df_join\n",
    "    .groupBy(\"title\")\n",
    "    .agg(\n",
    "        F.count(\"timestamp\").alias(\"qty_ratings\")\n",
    "        ,F.mean(\"rating\").alias(\"avg_rating\")\n",
    "    )\n",
    "    .sort(F.desc(\"qty_ratings\"))\n",
    "    .limit(10)\n",
    ")"
   ]
  },
  {
   "cell_type": "code",
   "execution_count": 7,
   "id": "02a33045-17e3-4813-9b6a-2be833e4f425",
   "metadata": {},
   "outputs": [],
   "source": [
    "df_result.coalesce(1).write.format(\"csv\").mode(\"overwrite\").save(\"/home/jovyan/work/resources/data/output_postgres\", header=True)"
   ]
  },
  {
   "cell_type": "code",
   "execution_count": null,
   "id": "92fb8f13-9364-4575-8c9e-bfece4c16b2b",
   "metadata": {},
   "outputs": [],
   "source": []
  }
 ],
 "metadata": {
  "kernelspec": {
   "display_name": "Python 3 (ipykernel)",
   "language": "python",
   "name": "python3"
  },
  "language_info": {
   "codemirror_mode": {
    "name": "ipython",
    "version": 3
   },
   "file_extension": ".py",
   "mimetype": "text/x-python",
   "name": "python",
   "nbconvert_exporter": "python",
   "pygments_lexer": "ipython3",
   "version": "3.10.5"
  }
 },
 "nbformat": 4,
 "nbformat_minor": 5
}

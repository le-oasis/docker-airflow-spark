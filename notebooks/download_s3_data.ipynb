{
 "cells": [
  {
   "cell_type": "code",
   "execution_count": null,
   "id": "5d0ae2bb-f758-4e50-9ff2-bee21c01695a",
   "metadata": {},
   "outputs": [],
   "source": [
    "################################################################################\n",
    "import os\n",
    "import sys\n",
    "import pyspark\n",
    "from pyspark.sql import SparkSession\n",
    "from delta.tables import *\n",
    "from delta.tables import DeltaTable\n",
    "from pyspark.sql.functions import *\n",
    "from pyspark.sql import *\n",
    "from pyspark.sql.types import *\n",
    "from pyspark.sql import functions as f\n",
    "from pyspark.sql.functions import from_unixtime, col, to_timestamp\n",
    "from pyspark.sql.functions import udf\n",
    "import hashlib\n",
    "import urllib.request\n",
    "import json\n",
    "from datetime import timedelta, date\n",
    "from pyspark import SparkContext\n",
    "from pyspark import SQLContext\n",
    "from itertools import islice\n",
    "from pyspark.sql.functions import col\n",
    "################################################################################"
   ]
  },
  {
   "cell_type": "code",
   "execution_count": null,
   "id": "d048f275-0166-49a5-9a0f-fa06a7a745af",
   "metadata": {},
   "outputs": [],
   "source": [
    "import boto3\n",
    "from botocore import UNSIGNED\n",
    "from botocore.client import Config\n",
    "import os\n",
    "\n",
    "\n",
    "def download_path(filename):\n",
    "    \"\"\"\n",
    "    Args:\n",
    "        filename: name of the file located in s3 bucket that will be downloaded\n",
    "    \n",
    "    output:\n",
    "        downloads a specific filename from s3 and saves it to a local directory called data\n",
    "        for staging\n",
    "    \"\"\"\n",
    "    s3 = boto3.client('s3', config=Config(signature_version=UNSIGNED))\n",
    "    bucket_name = 'd2b-internal-assessment-bucket'\n",
    "    response = s3.list_objects(Bucket=bucket_name, Prefix=\"orders_data\")\n",
    "    # specify directory to save downloaded files\n",
    "    local = '/home/jovyan/work/data'\n",
    "    if not os.path.exists(local):\n",
    "       os.makedirs(local)\n",
    "\n",
    "    s3.download_file(bucket_name, \"orders_data/{}\".format(filename), local + \"/\" \"{}\".format(filename))\n",
    "\n",
    "\n",
    "if __name__ == \"__main__\":\n",
    "    download_path(\"orders.csv\")\n",
    "    download_path(\"reviews.csv\")\n",
    "    download_path(\"shipment_deliveries.csv\")"
   ]
  }
 ],
 "metadata": {
  "kernelspec": {
   "display_name": "Python 3 (ipykernel)",
   "language": "python",
   "name": "python3"
  },
  "language_info": {
   "codemirror_mode": {
    "name": "ipython",
    "version": 3
   },
   "file_extension": ".py",
   "mimetype": "text/x-python",
   "name": "python",
   "nbconvert_exporter": "python",
   "pygments_lexer": "ipython3",
   "version": "3.10.10"
  }
 },
 "nbformat": 4,
 "nbformat_minor": 5
}

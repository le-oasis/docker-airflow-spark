{
 "cells": [
  {
   "cell_type": "markdown",
   "id": "1bc00d27-f2dc-428a-9924-b64dc1a7bf92",
   "metadata": {},
   "source": [
    "# Starting Spark Session"
   ]
  },
  {
   "cell_type": "code",
   "execution_count": 1,
   "id": "a0e999e9-d87e-4572-9edd-85a6fdd68863",
   "metadata": {},
   "outputs": [],
   "source": [
    "from pyspark.sql import SparkSession\n",
    "\n",
    "# Spark session & context\n",
    "spark = (SparkSession\n",
    "         .builder\n",
    "         .master(\"local\")\n",
    "         .appName(\"load-postgres\")\n",
    "         # Add postgres jar\n",
    "         .config(\"spark.driver.extraClassPath\", \"/home/jovyan/work/jars/postgresql-42.4.0.jar\")\n",
    "         .getOrCreate())\n",
    "sc = spark.sparkContext"
   ]
  },
  {
   "cell_type": "code",
   "execution_count": null,
   "id": "fa6d73a8-1dbe-4d64-99a2-a9a12ed7ac38",
   "metadata": {},
   "outputs": [],
   "source": []
  },
  {
   "cell_type": "markdown",
   "id": "53caa7dd-aff3-4ff6-bdb8-a0587f0236a2",
   "metadata": {},
   "source": [
    "# Extract\n",
    "\n",
    "* Here we read data from mounted volume."
   ]
  },
  {
   "cell_type": "code",
   "execution_count": 2,
   "id": "656a9a30-58c4-4e55-8e68-f7dc9d596dc4",
   "metadata": {},
   "outputs": [],
   "source": [
    "df_movies_csv = (\n",
    "    spark.read\n",
    "    .format(\"csv\")\n",
    "    .option(\"header\", True)\n",
    "    .load(\"/home/jovyan/work/data/movies.csv\")\n",
    ")"
   ]
  },
  {
   "cell_type": "code",
   "execution_count": 3,
   "id": "54391956-3829-4c90-8269-6039d80f0c3a",
   "metadata": {},
   "outputs": [],
   "source": [
    "df_ratings_csv = (\n",
    "    spark.read\n",
    "    .format(\"csv\")\n",
    "    .option(\"header\", True)\n",
    "    .load(\"/home/jovyan/work/data/ratings.csv\")\n",
    "    .withColumnRenamed(\"timestamp\",\"timestamp_epoch\")\n",
    ")"
   ]
  },
  {
   "cell_type": "markdown",
   "id": "a10a3b35-c6d6-40f2-8b8d-40d45a33c803",
   "metadata": {},
   "source": [
    "# Transform\n",
    "\n",
    "* Convert Timestamp column to Epoch"
   ]
  },
  {
   "cell_type": "code",
   "execution_count": 4,
   "id": "19377c72-d626-4236-b3a2-ab1b690f37f4",
   "metadata": {},
   "outputs": [],
   "source": [
    "# Convert epoch to timestamp and rating to DoubleType\n",
    "from pyspark.sql.functions import from_unixtime, col, to_timestamp\n",
    "from pyspark.sql.types import DoubleType\n",
    "\n",
    "df_ratings_csv_fmt = (\n",
    "    df_ratings_csv\n",
    "    .withColumn('rating', col(\"rating\").cast(DoubleType()))\n",
    "    .withColumn('timestamp', to_timestamp(from_unixtime(col(\"timestamp_epoch\"))))\n",
    ")"
   ]
  },
  {
   "cell_type": "code",
   "execution_count": null,
   "id": "cf1fa853-664e-422f-8f17-b5d2235469b5",
   "metadata": {},
   "outputs": [],
   "source": []
  },
  {
   "cell_type": "markdown",
   "id": "9c70de37-6f76-4819-aced-93c3be0d4639",
   "metadata": {},
   "source": [
    "# Load \n",
    "\n",
    "* to Postgres Database catalogged using Hive."
   ]
  },
  {
   "cell_type": "code",
   "execution_count": 5,
   "id": "7706d7a4-4ed7-4417-aa9c-34ed2cb6741f",
   "metadata": {},
   "outputs": [],
   "source": [
    "(df_movies_csv.write\n",
    " .format(\"jdbc\")\n",
    " .option(\"url\", \"jdbc:postgresql://oasispostgres:5432/metastore\")\n",
    " .option(\"dbtable\", \"public.movies\")\n",
    " .option(\"user\", \"hive\")\n",
    " .option(\"password\", \"hive\")\n",
    " .mode(\"overwrite\")\n",
    " .save())"
   ]
  },
  {
   "cell_type": "code",
   "execution_count": 6,
   "id": "fbabcb5d-1c6a-452e-b571-e5b7e99b35c4",
   "metadata": {},
   "outputs": [],
   "source": [
    "(df_ratings_csv_fmt\n",
    " .select([c for c in df_ratings_csv_fmt.columns if c != \"timestamp_epoch\"])\n",
    " .write\n",
    " .format(\"jdbc\")\n",
    " .option(\"url\", \"jdbc:postgresql://oasispostgres:5432/metastore\")\n",
    " .option(\"dbtable\", \"public.ratings\")\n",
    " .option(\"user\", \"hive\")\n",
    " .option(\"password\", \"hive\")\n",
    " .mode(\"overwrite\")\n",
    " .save())"
   ]
  },
  {
   "cell_type": "code",
   "execution_count": null,
   "id": "4973f21e-ee0f-47e7-95b9-1d4acff45bde",
   "metadata": {},
   "outputs": [],
   "source": []
  }
 ],
 "metadata": {
  "kernelspec": {
   "display_name": "Python 3.10.2 64-bit",
   "language": "python",
   "name": "python3"
  },
  "language_info": {
   "codemirror_mode": {
    "name": "ipython",
    "version": 3
   },
   "file_extension": ".py",
   "mimetype": "text/x-python",
   "name": "python",
   "nbconvert_exporter": "python",
   "pygments_lexer": "ipython3",
   "version": "3.10.8"
  },
  "vscode": {
   "interpreter": {
    "hash": "949777d72b0d2535278d3dc13498b2535136f6dfe0678499012e853ee9abcab1"
   }
  }
 },
 "nbformat": 4,
 "nbformat_minor": 5
}

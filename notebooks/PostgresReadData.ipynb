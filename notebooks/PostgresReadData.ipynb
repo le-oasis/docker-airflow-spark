{
 "cells": [
  {
   "cell_type": "markdown",
   "id": "4d6ae7b2-2d8d-40e2-989f-06134ff8534e",
   "metadata": {},
   "source": [
    "# Starting Spark Session"
   ]
  },
  {
   "cell_type": "code",
   "execution_count": 1,
   "id": "0ae43ef8-444d-4470-898d-a53a7c65c09e",
   "metadata": {},
   "outputs": [],
   "source": [
    "from pyspark.sql import SparkSession\n",
    "\n",
    "# Spark session & context\n",
    "spark = (SparkSession\n",
    "         .builder\n",
    "         .master(\"local\")\n",
    "         .appName(\"read-postgres\")\n",
    "         # Add postgres jar\n",
    "         .config(\"spark.driver.extraClassPath\", \"/home/jovyan/work/jars/postgresql-42.4.0.jar\")\n",
    "         .getOrCreate())\n",
    "sc = spark.sparkContext"
   ]
  },
  {
   "cell_type": "markdown",
   "id": "9004e069-5faa-449e-91c7-345be0e7ccf1",
   "metadata": {},
   "source": [
    "# Extract \n",
    "\n",
    "* Read data from Postgres."
   ]
  },
  {
   "cell_type": "markdown",
   "id": "d3094254-a937-4396-aee8-231dff87d26a",
   "metadata": {},
   "source": [
    "### Movies Data"
   ]
  },
  {
   "cell_type": "code",
   "execution_count": 2,
   "id": "cf95c0a8-4466-45dc-98cc-ac2b7a41e835",
   "metadata": {},
   "outputs": [],
   "source": [
    "# Movies Table; created from the csv we mounted  \n",
    "\n",
    "df_movies = (\n",
    "    spark.read\n",
    "    .format(\"jdbc\")\n",
    "    .option(\"url\", \"jdbc:postgresql://postgres:5432/metastore\")\n",
    "    .option(\"dbtable\", \"public.movies\")\n",
    "    .option(\"user\", \"hive\")\n",
    "    .option(\"password\", \"hive\")\n",
    "    .load()\n",
    ")"
   ]
  },
  {
   "cell_type": "code",
   "execution_count": 3,
   "id": "6c530ab4-4afe-407c-845b-2c57687a1806",
   "metadata": {},
   "outputs": [
    {
     "name": "stdout",
     "output_type": "stream",
     "text": [
      "+-------+--------------------+--------------------+\n",
      "|movieId|               title|              genres|\n",
      "+-------+--------------------+--------------------+\n",
      "|      1|    Toy Story (1995)|Adventure|Animati...|\n",
      "|      2|      Jumanji (1995)|Adventure|Childre...|\n",
      "|      3|Grumpier Old Men ...|      Comedy|Romance|\n",
      "|      4|Waiting to Exhale...|Comedy|Drama|Romance|\n",
      "|      5|Father of the Bri...|              Comedy|\n",
      "|      6|         Heat (1995)|Action|Crime|Thri...|\n",
      "|      7|      Sabrina (1995)|      Comedy|Romance|\n",
      "|      8| Tom and Huck (1995)|  Adventure|Children|\n",
      "|      9| Sudden Death (1995)|              Action|\n",
      "|     10|    GoldenEye (1995)|Action|Adventure|...|\n",
      "+-------+--------------------+--------------------+\n",
      "only showing top 10 rows\n",
      "\n"
     ]
    }
   ],
   "source": [
    "# Show Top 10 rows \n",
    "\n",
    "df_movies.show(10)"
   ]
  },
  {
   "cell_type": "markdown",
   "id": "ee0e6bef-1a80-4fb1-bd68-bd658a46047a",
   "metadata": {},
   "source": [
    "### Ratings Data"
   ]
  },
  {
   "cell_type": "code",
   "execution_count": 4,
   "id": "0261e4f1-e562-4d88-9e65-c58b4658ac8a",
   "metadata": {},
   "outputs": [],
   "source": [
    "# Ratings \n",
    "\n",
    "df_ratings = (\n",
    "    spark.read\n",
    "    .format(\"jdbc\")\n",
    "    .option(\"url\", \"jdbc:postgresql://postgres:5432/metastore\")\n",
    "    .option(\"dbtable\", \"public.ratings\")\n",
    "    .option(\"user\", \"hive\")\n",
    "    .option(\"password\", \"hive\")\n",
    "    .load()\n",
    ")"
   ]
  },
  {
   "cell_type": "code",
   "execution_count": 5,
   "id": "bd1ef2e1-aafb-42a5-a053-f6917c76b084",
   "metadata": {},
   "outputs": [
    {
     "name": "stdout",
     "output_type": "stream",
     "text": [
      "+------+-------+------+-------------------+\n",
      "|userId|movieId|rating|          timestamp|\n",
      "+------+-------+------+-------------------+\n",
      "|     1|      1|   4.0|2000-07-30 18:45:03|\n",
      "|     1|      3|   4.0|2000-07-30 18:20:47|\n",
      "|     1|      6|   4.0|2000-07-30 18:37:04|\n",
      "|     1|     47|   5.0|2000-07-30 19:03:35|\n",
      "|     1|     50|   5.0|2000-07-30 18:48:51|\n",
      "|     1|     70|   3.0|2000-07-30 18:40:00|\n",
      "|     1|    101|   5.0|2000-07-30 18:14:28|\n",
      "|     1|    110|   4.0|2000-07-30 18:36:16|\n",
      "|     1|    151|   5.0|2000-07-30 19:07:21|\n",
      "|     1|    157|   5.0|2000-07-30 19:08:20|\n",
      "+------+-------+------+-------------------+\n",
      "only showing top 10 rows\n",
      "\n"
     ]
    }
   ],
   "source": [
    "df_ratings.show(10)"
   ]
  },
  {
   "cell_type": "markdown",
   "id": "0225d912-52be-463a-95a6-65692d5b1817",
   "metadata": {},
   "source": [
    "# Transform\n",
    "\n",
    "* Lets grab the top 10 movies with more ratings"
   ]
  },
  {
   "cell_type": "code",
   "execution_count": 6,
   "id": "5fd46db0-3d3d-46e7-aff4-d53aa5f491e1",
   "metadata": {},
   "outputs": [],
   "source": [
    "df_movies = df_movies.alias(\"m\")\n",
    "df_ratings = df_ratings.alias(\"r\")\n",
    "\n",
    "df_join = df_ratings.join(df_movies, df_ratings.movieId == df_movies.movieId).select(\"r.*\",\"m.title\")"
   ]
  },
  {
   "cell_type": "code",
   "execution_count": 7,
   "id": "88e027a8-06c4-427c-9d2d-b3f4d3452b3d",
   "metadata": {},
   "outputs": [],
   "source": [
    "from pyspark.sql import functions as F\n",
    "\n",
    "df_result = (\n",
    "    df_join\n",
    "    .groupBy(\"title\")\n",
    "    .agg(\n",
    "        F.count(\"timestamp\").alias(\"qty_ratings\")\n",
    "        ,F.mean(\"rating\").alias(\"avg_rating\")\n",
    "    )\n",
    "    .sort(F.desc(\"qty_ratings\"))\n",
    "    .limit(10)\n",
    ")"
   ]
  },
  {
   "cell_type": "markdown",
   "id": "96ec82bd",
   "metadata": {},
   "source": [
    "# Load \n",
    "\n",
    "* Load the data into postgres storage."
   ]
  },
  {
   "cell_type": "code",
   "execution_count": 8,
   "id": "02a33045-17e3-4813-9b6a-2be833e4f425",
   "metadata": {},
   "outputs": [],
   "source": [
    "df_result.coalesce(1).write.format(\"csv\").mode(\"overwrite\").save(\"/home/jovyan/work/resources/data/output_postgres\", header=True)"
   ]
  },
  {
   "cell_type": "code",
   "execution_count": 9,
   "id": "34766652-84f6-4ad7-acde-fca840038e60",
   "metadata": {},
   "outputs": [
    {
     "name": "stdout",
     "output_type": "stream",
     "text": [
      "+--------------------+-----------+-----------------+\n",
      "|               title|qty_ratings|       avg_rating|\n",
      "+--------------------+-----------+-----------------+\n",
      "| Forrest Gump (1994)|        329|4.164133738601824|\n",
      "|Shawshank Redempt...|        317|4.429022082018927|\n",
      "| Pulp Fiction (1994)|        307|4.197068403908795|\n",
      "|Silence of the La...|        279|4.161290322580645|\n",
      "|  Matrix, The (1999)|        278|4.192446043165468|\n",
      "|Star Wars: Episod...|        251|4.231075697211155|\n",
      "|Jurassic Park (1993)|        238|             3.75|\n",
      "|   Braveheart (1995)|        237|4.031645569620253|\n",
      "|Terminator 2: Jud...|        224|3.970982142857143|\n",
      "|Schindler's List ...|        220|            4.225|\n",
      "+--------------------+-----------+-----------------+\n",
      "\n"
     ]
    }
   ],
   "source": [
    "df_result.show()"
   ]
  },
  {
   "cell_type": "code",
   "execution_count": null,
   "id": "360dee21-f11f-4942-b29f-93cd543caf73",
   "metadata": {},
   "outputs": [],
   "source": []
  }
 ],
 "metadata": {
  "kernelspec": {
   "display_name": "Python 3.10.2 64-bit",
   "language": "python",
   "name": "python3"
  },
  "language_info": {
   "codemirror_mode": {
    "name": "ipython",
    "version": 3
   },
   "file_extension": ".py",
   "mimetype": "text/x-python",
   "name": "python",
   "nbconvert_exporter": "python",
   "pygments_lexer": "ipython3",
   "version": "3.10.2"
  },
  "vscode": {
   "interpreter": {
    "hash": "949777d72b0d2535278d3dc13498b2535136f6dfe0678499012e853ee9abcab1"
   }
  }
 },
 "nbformat": 4,
 "nbformat_minor": 5
}

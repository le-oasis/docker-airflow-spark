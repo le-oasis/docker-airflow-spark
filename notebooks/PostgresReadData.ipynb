{
 "cells": [
  {
   "cell_type": "markdown",
   "id": "4d6ae7b2-2d8d-40e2-989f-06134ff8534e",
   "metadata": {},
   "source": [
    "# Starting Spark Session"
   ]
  },
  {
   "cell_type": "code",
   "execution_count": 2,
   "id": "0ae43ef8-444d-4470-898d-a53a7c65c09e",
   "metadata": {},
   "outputs": [],
   "source": [
    "from pyspark.sql import SparkSession\n",
    "\n",
    "# Spark session & context\n",
    "spark = (SparkSession\n",
    "         .builder\n",
    "         .appName(\"read-postgres\")\n",
    "         # Add postgres jar\n",
    "         .config(\"spark.driver.extraClassPath\", \"/home/jovyan/work/jars/postgresql-42.4.0.jar\")\n",
    "         .getOrCreate())"
   ]
  },
  {
   "cell_type": "markdown",
   "id": "9004e069-5faa-449e-91c7-345be0e7ccf1",
   "metadata": {},
   "source": [
    "## Read Postgres"
   ]
  },
  {
   "cell_type": "markdown",
   "id": "d3094254-a937-4396-aee8-231dff87d26a",
   "metadata": {},
   "source": [
    "### Actor Data"
   ]
  },
  {
   "cell_type": "code",
   "execution_count": 3,
   "id": "cf95c0a8-4466-45dc-98cc-ac2b7a41e835",
   "metadata": {},
   "outputs": [],
   "source": [
    "# Actor Table; created from the dvdrental database\n",
    "\n",
    "df_actor = (\n",
    "    spark.read\n",
    "    .format(\"jdbc\")\n",
    "    .option(\"url\", \"jdbc:postgresql://oasispostgresdb:5432/dvdrental\")\n",
    "    .option(\"dbtable\", \"public.actor\")\n",
    "    .option(\"user\", \"airflow\")\n",
    "    .option(\"password\", \"airflow\")\n",
    "    .load()\n",
    ")"
   ]
  },
  {
   "cell_type": "code",
   "execution_count": 4,
   "id": "6c530ab4-4afe-407c-845b-2c57687a1806",
   "metadata": {},
   "outputs": [
    {
     "name": "stdout",
     "output_type": "stream",
     "text": [
      "+--------+----------+------------+--------------------+\n",
      "|actor_id|first_name|   last_name|         last_update|\n",
      "+--------+----------+------------+--------------------+\n",
      "|       1|  Penelope|     Guiness|2013-05-26 14:47:...|\n",
      "|       2|      Nick|    Wahlberg|2013-05-26 14:47:...|\n",
      "|       3|        Ed|       Chase|2013-05-26 14:47:...|\n",
      "|       4|  Jennifer|       Davis|2013-05-26 14:47:...|\n",
      "|       5|    Johnny|Lollobrigida|2013-05-26 14:47:...|\n",
      "|       6|     Bette|   Nicholson|2013-05-26 14:47:...|\n",
      "|       7|     Grace|      Mostel|2013-05-26 14:47:...|\n",
      "|       8|   Matthew|   Johansson|2013-05-26 14:47:...|\n",
      "|       9|       Joe|       Swank|2013-05-26 14:47:...|\n",
      "|      10| Christian|       Gable|2013-05-26 14:47:...|\n",
      "+--------+----------+------------+--------------------+\n",
      "only showing top 10 rows\n",
      "\n"
     ]
    }
   ],
   "source": [
    "# Show Top 10 rows \n",
    "\n",
    "df_actor.show(10)"
   ]
  },
  {
   "cell_type": "markdown",
   "id": "ee0e6bef-1a80-4fb1-bd68-bd658a46047a",
   "metadata": {},
   "source": [
    "### Category Data"
   ]
  },
  {
   "cell_type": "code",
   "execution_count": 5,
   "id": "0261e4f1-e562-4d88-9e65-c58b4658ac8a",
   "metadata": {},
   "outputs": [],
   "source": [
    "# Category Table; created from the dvdrental database\n",
    "\n",
    "df_category= (\n",
    "    spark.read\n",
    "    .format(\"jdbc\")\n",
    "    .option(\"url\", \"jdbc:postgresql://oasispostgresdb:5432/dvdrental\")\n",
    "    .option(\"dbtable\", \"public.category\")\n",
    "    .option(\"user\", \"airflow\")\n",
    "    .option(\"password\", \"airflow\")\n",
    "    .load()\n",
    ")"
   ]
  },
  {
   "cell_type": "code",
   "execution_count": 6,
   "id": "bd1ef2e1-aafb-42a5-a053-f6917c76b084",
   "metadata": {},
   "outputs": [
    {
     "name": "stdout",
     "output_type": "stream",
     "text": [
      "+-----------+-----------+-------------------+\n",
      "|category_id|       name|        last_update|\n",
      "+-----------+-----------+-------------------+\n",
      "|          1|     Action|2006-02-15 09:46:27|\n",
      "|          2|  Animation|2006-02-15 09:46:27|\n",
      "|          3|   Children|2006-02-15 09:46:27|\n",
      "|          4|   Classics|2006-02-15 09:46:27|\n",
      "|          5|     Comedy|2006-02-15 09:46:27|\n",
      "|          6|Documentary|2006-02-15 09:46:27|\n",
      "|          7|      Drama|2006-02-15 09:46:27|\n",
      "|          8|     Family|2006-02-15 09:46:27|\n",
      "|          9|    Foreign|2006-02-15 09:46:27|\n",
      "|         10|      Games|2006-02-15 09:46:27|\n",
      "+-----------+-----------+-------------------+\n",
      "only showing top 10 rows\n",
      "\n"
     ]
    }
   ],
   "source": [
    "df_category.show(10)"
   ]
  },
  {
   "cell_type": "code",
   "execution_count": null,
   "id": "360dee21-f11f-4942-b29f-93cd543caf73",
   "metadata": {},
   "outputs": [],
   "source": []
  }
 ],
 "metadata": {
  "kernelspec": {
   "display_name": "Python 3 (ipykernel)",
   "language": "python",
   "name": "python3"
  },
  "language_info": {
   "codemirror_mode": {
    "name": "ipython",
    "version": 3
   },
   "file_extension": ".py",
   "mimetype": "text/x-python",
   "name": "python",
   "nbconvert_exporter": "python",
   "pygments_lexer": "ipython3",
   "version": "3.9.7"
  },
  "vscode": {
   "interpreter": {
    "hash": "110cc1dee26208153f2972f08a2ad52b6a56238dc66d48e87fb757ef2996db56"
   }
  }
 },
 "nbformat": 4,
 "nbformat_minor": 5
}

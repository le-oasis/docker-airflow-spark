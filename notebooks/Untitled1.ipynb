{
 "cells": [
  {
   "cell_type": "code",
   "execution_count": 10,
   "id": "d11fc6a1-cc9f-40f5-a3c3-d5cea9f861cc",
   "metadata": {},
   "outputs": [
    {
     "ename": "SyntaxError",
     "evalue": "invalid syntax (3286563150.py, line 3)",
     "output_type": "error",
     "traceback": [
      "\u001b[0;36m  Input \u001b[0;32mIn [10]\u001b[0;36m\u001b[0m\n\u001b[0;31m    val jdbcDriver = spark.conf.get(\"spark.jdbc.driver.class\", \"org.postgresql.jdbc.Driver\")\u001b[0m\n\u001b[0m        ^\u001b[0m\n\u001b[0;31mSyntaxError\u001b[0m\u001b[0;31m:\u001b[0m invalid syntax\n"
     ]
    }
   ],
   "source": []
  },
  {
   "cell_type": "code",
   "execution_count": null,
   "id": "04000bb4-f955-4410-b844-bd074fc7ee98",
   "metadata": {},
   "outputs": [],
   "source": []
  },
  {
   "cell_type": "code",
   "execution_count": null,
   "id": "df683d38-320e-4b47-9a1a-68ad363757cd",
   "metadata": {},
   "outputs": [],
   "source": []
  },
  {
   "cell_type": "code",
   "execution_count": null,
   "id": "181e9736-7f1b-4cc1-ba49-0b193b201c22",
   "metadata": {},
   "outputs": [],
   "source": []
  },
  {
   "cell_type": "code",
   "execution_count": 6,
   "id": "1ee8375d-76d2-48b2-bc9f-7195afb58803",
   "metadata": {},
   "outputs": [],
   "source": [
    "# from pyspark.sql import SparkSession\n",
    "\n",
    "# spark = (SparkSession \n",
    "#     .builder\n",
    "#     # .master(\"local\")\n",
    "#     .appName(\"Python Spark SQL basic example\") \n",
    "#     .config(\"spark.jars\", \"/home/jovyan/work/jars/postgresql-42.4.0.jar\") \n",
    "#     .getOrCreate())\n",
    "\n",
    "# df = (spark.read \n",
    "#     .format(\"jdbc\") \n",
    "#     .option(\"url\", \"jdbc:postgresql://localhost:5432/test\") \n",
    "#     .option(\"dbtable\", \"customers\") \n",
    "#     .option(\"user\", \"airflow\") \n",
    "#     .option(\"password\", \"airflow\") \n",
    "#     .option(\"driver\", \"org.postgresql.Driver\") \n",
    "#     .load())\n",
    "\n",
    "# df.printSchema()"
   ]
  },
  {
   "cell_type": "code",
   "execution_count": null,
   "id": "2538db2f-b90e-4fde-8add-f2f0da2b1dc7",
   "metadata": {},
   "outputs": [],
   "source": []
  },
  {
   "cell_type": "code",
   "execution_count": null,
   "id": "cee7dd97-0f6f-466c-9b59-fd49806be06c",
   "metadata": {},
   "outputs": [],
   "source": []
  },
  {
   "cell_type": "code",
   "execution_count": null,
   "id": "6bd83931-e109-4871-966a-6a91e25d2411",
   "metadata": {},
   "outputs": [],
   "source": []
  }
 ],
 "metadata": {
  "kernelspec": {
   "display_name": "Python 3 (ipykernel)",
   "language": "python",
   "name": "python3"
  },
  "language_info": {
   "codemirror_mode": {
    "name": "ipython",
    "version": 3
   },
   "file_extension": ".py",
   "mimetype": "text/x-python",
   "name": "python",
   "nbconvert_exporter": "python",
   "pygments_lexer": "ipython3",
   "version": "3.10.5"
  }
 },
 "nbformat": 4,
 "nbformat_minor": 5
}

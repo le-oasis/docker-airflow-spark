{
 "cells": [
  {
   "cell_type": "code",
   "execution_count": 3,
   "id": "d85dd363-cb4e-4675-a227-5bb7dd48cfdd",
   "metadata": {},
   "outputs": [],
   "source": [
    "from pyspark.sql import SparkSession\n",
    "\n",
    "# Spark session & context\n",
    "spark = (SparkSession\n",
    "         .builder\n",
    "         .appName(\"read-postgres\")\n",
    "         # Add postgres jar\n",
    "         .config(\"spark.driver.extraClassPath\", \"/home/jovyan/work/jars/postgresql-42.4.0.jar\")\n",
    "         .getOrCreate())"
   ]
  },
  {
   "cell_type": "code",
   "execution_count": 5,
   "id": "6e214090-a028-4339-ad47-8301ad2551b1",
   "metadata": {},
   "outputs": [],
   "source": [
    "# Movies Table; created from the csv we mounted  \n",
    "\n",
    "df_actor = (\n",
    "    spark.read\n",
    "    .format(\"jdbc\")\n",
    "    .option(\"url\", \"jdbc:postgresql://oasispostgresdb:5432/dvdrental\")\n",
    "    .option(\"dbtable\", \"public.actor\")\n",
    "    .option(\"user\", \"airflow\")\n",
    "    .option(\"password\", \"airflow\")\n",
    "    .load()\n",
    ")"
   ]
  },
  {
   "cell_type": "code",
   "execution_count": 6,
   "id": "e462c63e-2abc-41a0-a26f-b7572c805682",
   "metadata": {},
   "outputs": [
    {
     "name": "stdout",
     "output_type": "stream",
     "text": [
      "+--------+----------+------------+--------------------+\n",
      "|actor_id|first_name|   last_name|         last_update|\n",
      "+--------+----------+------------+--------------------+\n",
      "|       1|  Penelope|     Guiness|2013-05-26 14:47:...|\n",
      "|       2|      Nick|    Wahlberg|2013-05-26 14:47:...|\n",
      "|       3|        Ed|       Chase|2013-05-26 14:47:...|\n",
      "|       4|  Jennifer|       Davis|2013-05-26 14:47:...|\n",
      "|       5|    Johnny|Lollobrigida|2013-05-26 14:47:...|\n",
      "|       6|     Bette|   Nicholson|2013-05-26 14:47:...|\n",
      "|       7|     Grace|      Mostel|2013-05-26 14:47:...|\n",
      "|       8|   Matthew|   Johansson|2013-05-26 14:47:...|\n",
      "|       9|       Joe|       Swank|2013-05-26 14:47:...|\n",
      "|      10| Christian|       Gable|2013-05-26 14:47:...|\n",
      "+--------+----------+------------+--------------------+\n",
      "only showing top 10 rows\n",
      "\n"
     ]
    }
   ],
   "source": [
    "df_actor.show(10)"
   ]
  },
  {
   "cell_type": "code",
   "execution_count": null,
   "id": "390a6b4b-b98a-495b-95eb-6148aa5f0294",
   "metadata": {},
   "outputs": [],
   "source": []
  }
 ],
 "metadata": {
  "kernelspec": {
   "display_name": "Python 3 (ipykernel)",
   "language": "python",
   "name": "python3"
  },
  "language_info": {
   "codemirror_mode": {
    "name": "ipython",
    "version": 3
   },
   "file_extension": ".py",
   "mimetype": "text/x-python",
   "name": "python",
   "nbconvert_exporter": "python",
   "pygments_lexer": "ipython3",
   "version": "3.9.7"
  }
 },
 "nbformat": 4,
 "nbformat_minor": 5
}
